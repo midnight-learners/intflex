{
 "cells": [
  {
   "cell_type": "code",
   "execution_count": 1,
   "id": "initial_id",
   "metadata": {
    "collapsed": true,
    "ExecuteTime": {
     "end_time": "2023-10-09T13:40:41.995080Z",
     "start_time": "2023-10-09T13:40:39.755887Z"
    }
   },
   "outputs": [
    {
     "name": "stdout",
     "output_type": "stream",
     "text": [
      "metadata\n",
      "page_content\n"
     ]
    }
   ],
   "source": [
    "import os\n",
    "\n",
    "from db import VecDBClient\n",
    "from utils import get_text_embedding\n",
    "from dotenv import load_dotenv\n",
    "import openai\n",
    "\n",
    "load_dotenv()\n",
    "openai.api_key = os.environ.get(\"OPENAI_API_KEY\")\n",
    "\n",
    "client = VecDBClient(\n",
    "    url=\"http://localhost:6333\",\n",
    "    collection_name=\"inflex_document\",\n",
    "    embedding_dim=1536\n",
    ")\n",
    "\n",
    "query = \"员工要遵守什么规则\"\n",
    "query_embedding = get_text_embedding(query, embedding_model_name=\"gpt-3.5-turbo\")\n",
    "\n",
    "points = client.retrieve_similar_vectors(query_embedding, top_k=1)\n",
    "\n",
    "for item in points[0]:\n",
    "    print(item)"
   ]
  },
  {
   "cell_type": "code",
   "execution_count": 3,
   "outputs": [
    {
     "data": {
      "text/plain": "'员工守则\\n\\n一.基本要求\\n\\n熟悉岗位职责；明确工作目标；\\n\\n遵循业务流程；遵守作业标准；\\n\\n注意团队和谐；维护企业形象；\\n\\n保守商业秘密；不断开拓进取。\\n\\n二.员工行为准则\\n\\n1.热爱本职工作，遵守职业道德，尽职尽责，服从领导，听从指挥，严守纪律；\\n\\n2.遵纪守法，严禁有碍社会公德及伤害他人名誉的行为；\\n\\n3.为人诚实，不隐瞒，伪造自身经历，不掩饰工作上的过失和错误；\\n\\n4.不滥用职权和越权专断，不得利用职权索取谋求其他不正当利益；\\n\\n5.维护公司信誉，非经许可不得擅用本公司名义对外发表个人意见；\\n\\n6.本公司员工对外接洽事项，应态度谦和，不得骄傲自满；\\n\\n7.员工对于职务及公事，均应循级而上，不得越级呈报，但紧急或特殊情况不在此限。\\n\\n三.员工录用\\n\\n※面试\\n\\n1.新员工入职之前需要填写入职申请表；\\n\\n2.如实告知本人的基本信息提供身份证原件、学历证、健康证原件及联系方式；\\n\\n3.本人过往的经历、家庭状况及特殊情况下的联络人的电话；\\n\\n4.面试先要经过人力资源部初试，然后由招聘需求的部门主管根据业务的需要进一步复试；'"
     },
     "execution_count": 3,
     "metadata": {},
     "output_type": "execute_result"
    }
   ],
   "source": [
    "points[0]['page_content']"
   ],
   "metadata": {
    "collapsed": false,
    "ExecuteTime": {
     "end_time": "2023-10-09T13:40:49.725975Z",
     "start_time": "2023-10-09T13:40:49.695596Z"
    }
   },
   "id": "82a8b17b7cbe9e9"
  },
  {
   "cell_type": "code",
   "execution_count": 3,
   "outputs": [],
   "source": [],
   "metadata": {
    "collapsed": false,
    "ExecuteTime": {
     "end_time": "2023-10-09T13:51:49.391899Z",
     "start_time": "2023-10-09T13:51:49.379567Z"
    }
   },
   "id": "bc3dab7c9aa13fcd"
  },
  {
   "cell_type": "code",
   "execution_count": 3,
   "outputs": [],
   "source": [],
   "metadata": {
    "collapsed": false,
    "ExecuteTime": {
     "end_time": "2023-10-09T13:51:49.586703Z",
     "start_time": "2023-10-09T13:51:49.576579Z"
    }
   },
   "id": "a8853b4accbe6052"
  },
  {
   "cell_type": "code",
   "execution_count": null,
   "outputs": [],
   "source": [],
   "metadata": {
    "collapsed": false
   },
   "id": "55762b848ba478b7"
  },
  {
   "cell_type": "markdown",
   "source": [
    "# summerize"
   ],
   "metadata": {
    "collapsed": false
   },
   "id": "db524a9d6d1e6afd"
  },
  {
   "cell_type": "code",
   "execution_count": 27,
   "outputs": [],
   "source": [
    "dict = {\n",
    "    \"question\": \"\",\n",
    "    \"options\": {\n",
    "        \"A\": \"\",\n",
    "        \"B\": \"\",\n",
    "        \"C\": \"\",\n",
    "        \"D\": \"\",\n",
    "    },\n",
    "    \"answer\": \"\"\n",
    "}\n",
    "\"\"\"\n",
    "{{\n",
    "    \"question\": ```your generated question```\n",
    "    \"options\": {{\n",
    "    \"A\": ```Option A content```,\n",
    "    \"B\": ```Option B content```,\n",
    "    \"C\": ```Option C content```,\n",
    "    \"D\": ```Option D content```,\n",
    "    }},\n",
    "    \"answer\": ```The correct answer of your generated question```\n",
    "}}\n",
    "\"\"\""
   ],
   "metadata": {
    "collapsed": false,
    "ExecuteTime": {
     "end_time": "2023-10-10T17:54:02.696768Z",
     "start_time": "2023-10-10T17:54:02.690097Z"
    }
   },
   "id": "739452adb600f418"
  },
  {
   "cell_type": "code",
   "execution_count": null,
   "outputs": [],
   "source": [],
   "metadata": {
    "collapsed": false
   },
   "id": "435bab6a71968cc0"
  },
  {
   "cell_type": "code",
   "execution_count": null,
   "outputs": [],
   "source": [],
   "metadata": {
    "collapsed": false
   },
   "id": "ef4a9380bd96ccb6"
  },
  {
   "cell_type": "code",
   "execution_count": null,
   "outputs": [],
   "source": [],
   "metadata": {
    "collapsed": false
   },
   "id": "e1ca6582784152a1"
  },
  {
   "cell_type": "markdown",
   "source": [
    "# summarize knowledge points"
   ],
   "metadata": {
    "collapsed": false
   },
   "id": "288ce3c88b12487d"
  },
  {
   "cell_type": "code",
   "execution_count": 24,
   "outputs": [
    {
     "name": "stdout",
     "output_type": "stream",
     "text": [
      "('\\n'\n",
      " '-- 线路板制造经验 | '\n",
      " '这篇文章介绍了该公司在板及刚挠性印制线路板批量和样板制造方面的经验和能力。他们具有较强及快速的新品/新工艺开发能力，可以确保快速提供优质的高科技产品，广泛应用于通信、工业控制、计算机应用、航空航天、军工、医疗、测试仪器等各个领域。\\n'\n",
      " '\\n'\n",
      " '-- 禁止使用童工政策 | '\n",
      " '该公司制定了政策和补救措施来有效地控制不使用童工。这个政策适用于公司内的各个部门和工作场所，并且遵守国务院的相关规定和RBA标准。在招工时，人力资源部门必须对应聘者的相关证件进行核查，确认其身份和年龄符合要求后才能录用。如果应聘者还未领取身份证，必须持有户口所在地公安派出所核准的身份证明。这些措施旨在保护未成年人的权益，遵守相关法律法规。')\n"
     ]
    }
   ],
   "source": [
    "from dotenv import load_dotenv\n",
    "import openai\n",
    "import os\n",
    "\n",
    "load_dotenv()\n",
    "openai.api_key = os.environ.get(\"OPENAI_API_KEY\")\n",
    "\n",
    "with open(\"../document_txt/人力资源部/ZC-S-H-002RBA管理手册（A1）.txt\", \"r\") as f:\n",
    "    text = f.read()\n",
    "\n",
    "prompt_1 = \"\"\"\n",
    "You have been assigned the responsibility of overseeing staff training and there is a company article available for your reference. \\\n",
    "Your task is to analysis the article and extract {NUM_KNOWLEDGE_POINT} key knowledge mentioned in the article that you believe are crucial for employees, \\\n",
    "and describe each knowledge in a comprehensive summary in Chinese with about 100 words. \\\n",
    "Please mark each knowledge clearly with bullet point.\n",
    "\n",
    "Output example: ```\n",
    "-- <your generated knowledge name> | <your generated knowledge summary>\n",
    "```\n",
    "Article: ```{ARTICLE}```\n",
    "\"\"\".format(NUM_KNOWLEDGE_POINT=2, ARTICLE=text[600:1200])\n",
    "\n",
    "response_gpt = openai.Completion.create(\n",
    "    model=\"gpt-3.5-turbo-instruct\",\n",
    "    prompt=prompt_1,\n",
    "    temperature=0.7,\n",
    "    max_tokens=2048,\n",
    "    n=1,\n",
    "    top_p=1,\n",
    ")\n",
    "summarized_knowledge_points = response_gpt.choices[0].text\n",
    "\n",
    "from pprint import pprint\n",
    "pprint(summarized_knowledge_points)\n",
    "# summarized_knowledge_points"
   ],
   "metadata": {
    "collapsed": false,
    "ExecuteTime": {
     "end_time": "2023-10-14T06:33:22.636256Z",
     "start_time": "2023-10-14T06:33:18.593201Z"
    }
   },
   "id": "46ed0a0e3e0c6eb8"
  },
  {
   "cell_type": "code",
   "execution_count": null,
   "outputs": [],
   "source": [],
   "metadata": {
    "collapsed": false
   },
   "id": "8cef20c993620b7"
  },
  {
   "cell_type": "markdown",
   "source": [
    "# generate questions"
   ],
   "metadata": {
    "collapsed": false
   },
   "id": "af41088e7c5a9d11"
  },
  {
   "cell_type": "code",
   "execution_count": 21,
   "outputs": [
    {
     "name": "stdout",
     "output_type": "stream",
     "text": [
      "('\\n'\n",
      " 'question: 按照公司政策，哪些领域适用于该公司快速提供优质的高科技产品？\\n'\n",
      " 'options: A: 医疗 | B: 农业 | C: 通信 | D: 资源开发\\n'\n",
      " '\\n'\n",
      " 'answer: C: 通信\\n'\n",
      " '<DIVIDED>\\n'\n",
      " '\\n'\n",
      " 'question: 公司人力资源部在招工时会进行哪些核查？\\n'\n",
      " 'options: A: 核对相关证件 | B: 进行面试 | C: 查看求职者简历 | D: 向求职者提问\\n'\n",
      " '\\n'\n",
      " 'answer: A: 核对相关证件')\n"
     ]
    }
   ],
   "source": [
    "prompt_2 = \"\"\"\n",
    "You are the person in charge of employee orientation, and you have a list of knowledge points. \\\n",
    "Your task is to generate a multiple-choice question for each knowledge point to see \\\n",
    "how well the employee has mastered each of the knowledge point. \\\n",
    "Each multiple-choice question has 1 correct option and 3 interference options\\\n",
    "(must ensure the interference option is erroneous). \n",
    "Please generate {NUM_QUESTION} questions and output each question in key-value format, make sure key name is English and value content is Chinese. \n",
    "\n",
    "Output Example:\n",
    "```\n",
    "question: <your generated question>\n",
    "options: A: <Option A content> | B: <Option B content> | C: <Option C content> | D: <Option D content>\\n\n",
    "answer: <The correct option of your generated question>\n",
    "<DIVIDED>\n",
    "```\n",
    "\n",
    "Knowledge points: ```{KNOWLEDGE_POINTS}```\n",
    "\"\"\".format(NUM_QUESTION=2, KNOWLEDGE_POINTS=summarized_knowledge_points)\n",
    "\n",
    "response_gpt = openai.Completion.create(\n",
    "    model=\"gpt-3.5-turbo-instruct\",\n",
    "    prompt=prompt_2,\n",
    "    temperature=0.7,\n",
    "    max_tokens=2048,\n",
    "    n=1,\n",
    "    top_p=1,\n",
    ")\n",
    "raw_questions = response_gpt.choices[0].text\n",
    "\n",
    "from pprint import pprint\n",
    "pprint(raw_questions)"
   ],
   "metadata": {
    "collapsed": false,
    "ExecuteTime": {
     "end_time": "2023-10-14T05:19:32.827865Z",
     "start_time": "2023-10-14T05:19:30.921132Z"
    }
   },
   "id": "415b2af7a355043f"
  },
  {
   "cell_type": "code",
   "execution_count": 5,
   "outputs": [
    {
     "data": {
      "text/plain": "[{'question': '公司名称为广东则成科技有限公司的经营理念是？',\n  'options': {'A': '以市场为导向，以质量为中心',\n   'B': '立足行业领先地位',\n   'C': '追求高精密度生产',\n   'D': '持续改善生产制造和服务'},\n  'answer': 'A: 以市场为导向，以质量为中心'},\n {'question': 'RBA管理手册是公司为控制社会责任及安全卫生损失而建立的指导性文件，该手册是根据哪些标准和法规编写的？',\n  'options': {'A': 'RBA实施及内容审核',\n   'B': 'ISO9001：2008质量管理体系',\n   'C': 'ISO14OO0：2004环境管理体系',\n   'D': '所有以上内容'},\n  'answer': 'D: 所有以上内容'}]"
     },
     "execution_count": 5,
     "metadata": {},
     "output_type": "execute_result"
    }
   ],
   "source": [
    "def parse_raw_questions_to_json(raw_questions: str) -> list:\n",
    "    \n",
    "    processed_question = []\n",
    "    for raw_question in raw_questions.split('<DIVIDED>'):\n",
    "        raw_question = raw_question.strip().split('\\n')\n",
    "        json_question = {}\n",
    "        for section in raw_question:\n",
    "            if section.startswith(\"question\"):\n",
    "                question_content = section.split(\"question:\")[1].strip()\n",
    "                json_question[\"question\"] = question_content\n",
    "            \n",
    "            elif section.startswith(\"options\"):\n",
    "                json_options = {}\n",
    "                for option in section.split(\"options:\")[1].split(\"|\"):\n",
    "                    option_tag = option.split(\":\")[0].strip()\n",
    "                    option_content = option.split(\":\")[1].strip()\n",
    "                    json_options[option_tag] = option_content\n",
    "                json_question[\"options\"] = json_options\n",
    "            \n",
    "            elif section.startswith(\"answer\"):\n",
    "                answer_content = section.split(\"answer:\")[1].strip()\n",
    "                json_question[\"answer\"] = answer_content\n",
    "            \n",
    "        processed_question.append(json_question)\n",
    "    return processed_question\n",
    "\n",
    "parse_raw_questions_to_json(raw_questions)"
   ],
   "metadata": {
    "collapsed": false,
    "ExecuteTime": {
     "end_time": "2023-10-14T04:22:03.284353Z",
     "start_time": "2023-10-14T04:22:03.278483Z"
    }
   },
   "id": "d0aef2f4a6e9078d"
  },
  {
   "cell_type": "code",
   "execution_count": 24,
   "outputs": [],
   "source": [],
   "metadata": {
    "collapsed": false,
    "ExecuteTime": {
     "end_time": "2023-10-14T10:48:06.417540Z",
     "start_time": "2023-10-14T10:48:06.405105Z"
    }
   },
   "id": "a100c06bc6ea2b18"
  },
  {
   "cell_type": "code",
   "execution_count": 24,
   "outputs": [],
   "source": [],
   "metadata": {
    "collapsed": false,
    "ExecuteTime": {
     "end_time": "2023-10-14T10:48:06.683268Z",
     "start_time": "2023-10-14T10:48:06.665186Z"
    }
   },
   "id": "c08099f10ae8ac17"
  },
  {
   "cell_type": "code",
   "execution_count": 24,
   "outputs": [],
   "source": [],
   "metadata": {
    "collapsed": false,
    "ExecuteTime": {
     "end_time": "2023-10-14T10:48:07.006969Z",
     "start_time": "2023-10-14T10:48:06.994413Z"
    }
   },
   "id": "ab47baaaab5c5388"
  },
  {
   "cell_type": "code",
   "execution_count": 24,
   "outputs": [],
   "source": [],
   "metadata": {
    "collapsed": false,
    "ExecuteTime": {
     "end_time": "2023-10-14T10:48:07.184460Z",
     "start_time": "2023-10-14T10:48:07.172384Z"
    }
   },
   "id": "dcf292471a578aa2"
  },
  {
   "cell_type": "code",
   "execution_count": 24,
   "outputs": [],
   "source": [],
   "metadata": {
    "collapsed": false,
    "ExecuteTime": {
     "end_time": "2023-10-14T10:48:07.369766Z",
     "start_time": "2023-10-14T10:48:07.351650Z"
    }
   },
   "id": "a005d2b88e8627d3"
  },
  {
   "cell_type": "code",
   "execution_count": 30,
   "outputs": [
    {
     "data": {
      "text/plain": "['RBA管理手册 | 从文章中，我们可以了解到RBA管理手册是为我司的社会责任及安全卫生损失而建立的管理方案。它的实施内容参照了ISO9001：2008质量管理体系、ISO14OO0：2004环境管理体系、责任商业联盟行为准则（RBA）及国家、地方相关法律法规。通过定期的符合性评审，它能够改善公司与员工及相关利益团体的关系，提升企业形象及声誉，增强员工的向心力、凝聚力和公司竞争力。',\n ' 公司简介 | 文章中提到，广东则成科技有限公司是一家座落于广东省珠海市高新技术产业开发区的港资企业，专业生产高精密双面、多层挠性板及刚挠结合板。公司的经营理念是以“市场为导向，质量为中心”，致力于高精密度批量和快速印制线路板的生产制造和研发服务，力争实现行业领先。通过构建与客户关系紧密、利益取向一致的价值链体系，公司团队具有近二十年的行业经验。',\n ' 童工政策 | 本公司制定了严格的童工政策，遵守国务院《禁止使用童工规定》和RBA标准。招聘时，人力资源部必须核查应聘人员的相关证件，如第二代身份证和健康证，并确认相片真实无伪。暂未领取身份证的，应持有公安派出所核准的十六周岁以上的证明。',\n ' 厂房布局 | 公司的厂房分布图包括办公室、制造车间、仓库和实验室。制造车间包括开料车间、数控车间、电镀车间、快压车间、压合车间、线路车间、阻焊车间、冲切车间、CCD冲孔车间、终检车间、包装车间、AOI车间和电测车间。实验室包括物理室和化验室。这些车间和实验室的布局合理，能够有效地支持公司的生产和研发工作。',\n ' 未成年工特殊保护制度 | 根据《劳动法》，制定本制度，保护未成年工的合法权益和健康。',\n ' 《禁止使用童工规定》 | 根据规定，未成年工必须年满16周岁，不能从事危险、不安全和不卫生的工作，每年进行健康检查。',\n ' 作业分级 | 该公司严格按照国家标准对作业进行分级，包括接尘作业、有毒作业、冷水作业、高温作业和体力劳动强度作业等。同时，对于易燃易爆、化学性烧伤和热烧伤等危险性大的作业，也要特别注意。',\n ' 未成年工健康检查 | 公司要求对未成年工定期进行健康检查，包括安排工作岗位前、工作满1年以及年满18周岁且距前一次体检超过半年等条件。根据检查结果，对不能胜任原劳动岗位的未成年工，要根据医务部门的证明，减轻劳动量或安排其他劳动。',\n ' 员工权利保障 | 《劳动法》和RBA标准保障员工的权利，包括提前申请离厂、生病请假休息、自由进出宿舍等。',\n ' 健康与安全管理 | 公司制定了健康与安全管理方案，旨在为员工提供安全与健康的工作和生活环境。该方案涉及安全风险、健康卫生及相关规章制度。公司坚持以“安全第一、人人参与、预防为主、综合治理”的原则，确保员工的安全与健康。',\n ' 安全卫生培训 | 为员工提供一个健康、安全的工作环境，每年最少进行两次消防演习训练，每年不少于两次进行岗位培训，重复举办健康与安全培训，为员工掌握安全卫生操作规程。 ',\n ' 安全目标与标的 | 安全卫生管理委员会建立安全、卫生目标及标的，配合安全卫生政策、重大风险辩认结果、法规及其它要求、技术选择、资金、作业和经营要求、利害相关者的观点，以安全为目标，以预防为手段，符合国际及国家劳动法规，减少工作环境中固有的危害因素，为员工提供一个安全卫生的宿舍。',\n ' 尊重员工的自由 | 文章强调了公司尊重员工的自由，保障员工的合法权益的重要性。公司应该充分尊重员工的自由，鼓励员工成立和参加工会，参与集体谈判，保障员工的合法权益。这样可以增强员工的归属感和责任感，提高员工的工作积极性和满意度，最终促进公司的发展和稳定。',\n ' RBA系统 | 文章提到了RBA系统的重要性，并提出了加强RBA系统推广和改善的措施。RBA系统是一种有效的社会责任管理方案，可以帮助公司降低违规风险和职业安全卫生损失，保障员工的权益，加强内外沟通。因此，公司应该加强对RBA系统的推广和培训，保持持续改善，最终达到建立良好的社会责任管理方案的目标。',\n ' 集体谈判 | 作为员工，有权利通过工会或书面形式与管理层进行集体谈判，提出建议和意见，并在一定时间内得到回复。',\n ' 歧视 | 公司将执行一视同仁的原则，不歧视员工的民族、性别、年龄、职务、宗教、生理或国籍，且男女员工享有同等的就业权利。在经济裁员时，也将严格遵守相关法律规定。',\n ' 歧视禁止 | 本厂严格遵守国家劳动法规定，不允许在员工聘用、补偿、培训、晋升等方面因民族、种族、性别、年龄、宗教、信仰、残疾等而歧视员工。',\n ' 惩戒性措施 | 本公司严禁任何暴力、威胁或其他手段限制员工人身自由，严禁任何侮辱、体罚、殴打、非法搜索和拘禁员工的行为。员工违反厂规，将进行批评教育和经济处罚。',\n ' 工作时间与休息时间 | 员工需要注意工作时间与休息时间的规定，包括每日工作时间不超过8小时，每周工作时间不超过40小时，每周至少休息一天，员工有权拒绝加班，法定假日享受11天假期，还有特殊假期如年休假、婚丧假等。',\n ' 薪酬 | 员工需要了解公司的薪酬规定，包括工资按时发放，可以通过打卡记录自己的工作时间，工资与工时一致，享受法定的特殊假期也是有薪假期。',\n ' 社会责任政策 | 旨在通过强施实行，强化企业竞争力来解决社会责任议题。',\n ' 劳动工资计算方法 | 劳动工资按劳动法规定，遵循按劳动分配原则，实行同工同酬、多劳多得、不劳不得，并且根据珠海市最低工资标准支付，对加班、休息时间和法定假日安排工作的员工支付相应的加班工资或休息补偿工资。',\n ' 社会责任政策 | 该公司承诺遵守《责任商业联盟行为准则》(ResponsibleBusinessAlliance, RBA)，并按照该准则规范所有行为，包括薪酬、工作时间、安全与健康等方面。同时，该公司还建立了社会责任管理系统，接受外部审查和员工监督，持续改善管理，尊重所有人的权利，禁止歧视行为和强迫劳动，并公开社会责任政策。',\n ' 管理审查 | 该公司每年至少进行一次管理层审查，由总经理主持，参加的还有管理代表、员工代表、安委会委员和各部门经理。审查内容包括RBA政策、内部及外来的社会责任系统审查结果、系统改变及改进、供货商/分包商的社会责任表现。该公司重视社会责任管理并积极改进，确保其社会责任管理系统的持续性和有效性。',\n ' 员工职业健康及劳动保护控制细则 | 该细则的目的是为了保护员工的职业健康和劳动条件。它包括制定政策、明确责任、建立管理系统、提供培训等内容，以确保员工在工作中的安全和健康。这项细则对员工来说至关重要，因为它直接关系到他们的身体健康和生命安全。',\n ' 内部审查 | 内部审查是指对公司社会责任管理系统进行自我检查，以评估其有效性和合规性。它包括制定审查计划、培训审查员、进行审查和提出改进建议等环节。内部审查的目的是为了确保公司社会责任管理系统符合相关法规和要求，保障员工的合法权益。这是一项重要的工作，也是公司履行社会责任的关键步骤。',\n ' 健康与安全 | 公司有制定的政策，高级职员负责健康与安全，有急救箱，员工有安全训练，有清洁的环境，洗手间符合卫生要求，有方便使用的水，员工对工作时间满意，薪金符合法定要求',\n ' 社会责任受培训 | 公司有制定的政策，员工受到社会责任培训，有内部审查，选择新的供货商时考虑RBA，对于有问题的供货商有适当的改正行动',\n ' 员工代表推选 | 员工代表负责与员工沟通社会责任行为，以书面或口头形式提出建议并向管理代表报告。',\n ' 内部审查员资格要求 | 内部审查员须参加RBA培训课程并通过考试，或具备相关资格，如劳动管理、安全主任等。',\n ' 安全卫生知识与技能 | 本公司要求所有员工完全了解和遵守员工职业健康及劳动保护控制细则，包括提供相关培训以加强安全教育，防止在工作中发生不当行为。',\n ' 社会责任 | 本公司旨在加强社会责任，完善管理体系，提高企业竞争力。为达成此目标，公司要求所有部门明确本标准定义、责任和职权，定期检查实施情况，并监督相关活动和成效，确保实施系统有效地达到公司政策和本标准规划的目标。 ',\n ' 诚信经营 | 诚信是公司最重要的道德要求。公司禁止任何形式的贿赂、腐败、敲诈勒索和挪用公款行为，并推行监督和强化程序以确保符合反腐败法的要求。',\n ' 信息披露 | 公司依照使用法规和主要的行业惯例公开有关劳工、健康与安全、环境实践、商业活动、组织结构、财务状况和绩效的信息。公司不允许伪造记录或虚报供应链中的条件或实践，以确保透明度和诚信。',\n ' 保护客户信息安全 | 文章中提及了保护客户信息安全的重要性，指出公司必须以适当的方式保护客户信息安全，并制定相关政策和程序来保障客户的隐私和信息安全。',\n ' 负责任的矿物采购 | 文章中强调了公司必须负责任地采购矿物，确保所采购的钽、锡、钨和金不会为刚果民主共和国或周边国家/地区中严重侵犯人权的武装团体提供资金或利益。公司还将对矿物的来源和产销监管链进行尽职调查，并向客户提供相关信息。这体现了公司的社会责任意识和对人权问题的重视。',\n ' 员工投诉和建议处理 | 公司将会认真处理员工的投诉和建议，并采取相应的改善和预防措施。员工可以通过书面形式提出建议，并不会因此受到处罚或歧视。公司将委派员工代表进行调查核实，并记录在《建议或投诉处理记录表》中。如果改善计划经公司和董事长通过，公司将委派员工代表监督和认证措施的执行情况。',\n ' 外部沟通渠道及方法 | 公司将定期与政府安全、劳动管理部门及企业主管部门进行沟通，每半年邀请进行审查监测或座谈会。同时，公司也会通过信函的方式告知政府部门和供货商、分包商，公司已实施了RBA，并要求他们提供相关的法律法规文件和信息。公司也会接受客商和政府部门的审查，并记录针对RBA方面的建议和意见。对于分包商和供货商，公司也会要求他们签订承诺书并保存。这些沟通渠道和方法都旨在对公司的社会责任和管理系统进行内、外部信息沟通，以确保公司的行为符合RBA标准。',\n ' 培训记录 | 员工必须定期参加RBA相关培训，包括劳动部门和消防部门的培训。这有助于提高员工对社会责任管理系统的了解，促进其在工作中的积极参与，从而保证公司的社会责任实践符合标准。',\n ' 记录保存 | 为了证明公司符合手册规定，需要保存所有关于社会责任管理系统的文件和记录。这些记录包括各类培训记录、巡查记录等，由文控中心保留或销毁。记录要清晰可辩，便于取阅，保存期按照总登记目录规定。',\n ' RBA标准-9.14记录 | RBA标准-9.14记录是指公司对于社会责任法规和标准的内部记录，包括评估结果和日期等信息。这个记录对于员工来说非常重要，因为它可以帮助员工了解公司在社会责任方面的表现和努力，同时也可以提醒员工在工作中遵守相关法规和标准，保证公司的合法性和可持续发展。',\n ' 社会责任法规目录及评估记录表 | 社会责任法规目录及评估记录表是指公司对于社会责任法规的分类目录和评估结果的记录表格。这个表格对于员工来说也非常重要，因为它可以帮助员工了解公司需要遵守的法规和标准，同时也可以帮助员工了解公司在这些法规和标准方面的评估结果，从而更加有效地履行自己的工作职责。员工应该通过这个表格来了解自己的工作职责，同时也要积极参与公司的社会责任实践，共同促进公司的可持续发展。',\n ' 员工应聘登记表 | 员工应聘登记表是用来记录员工的个人信息和应聘的相关信息的表格。它由人力资源部门负责保存，保存期限是员工离职两年后销毁。这个表格对于员工的招聘和离职管理具有重要的作用。',\n ' 培训记录 | 培训记录是用来记录员工接受过的培训信息的记录表。它由人力资源部门负责保存，保存期限是员工离职。这个记录对于员工的培训和发展具有重要的作用，可以帮助公司了解员工的培训情况并为员工的职业发展提供指导。']"
     },
     "execution_count": 30,
     "metadata": {},
     "output_type": "execute_result"
    }
   ],
   "source": [
    "with open('ZC-S-H-002知识点.txt', 'r', encoding='utf-8') as txt_f:\n",
    "    knowledge_text = txt_f.read()\n",
    "\n",
    "knowledge_list = knowledge_text.replace(\"--\", \"\\n\"). replace(\"\\n\\n\", \"\\n\").replace(\"\\n\\n\", \"\\n\").strip().split(\"\\n\")\n",
    "knowledge_list\n"
   ],
   "metadata": {
    "collapsed": false,
    "ExecuteTime": {
     "end_time": "2023-10-14T10:51:45.446780Z",
     "start_time": "2023-10-14T10:51:45.429321Z"
    }
   },
   "id": "471af289ab21f50d"
  },
  {
   "cell_type": "code",
   "execution_count": 31,
   "outputs": [],
   "source": [
    "\n"
   ],
   "metadata": {
    "collapsed": false,
    "ExecuteTime": {
     "end_time": "2023-10-14T12:30:22.000136Z",
     "start_time": "2023-10-14T12:30:21.987911Z"
    }
   },
   "id": "15711ac8a752ac74"
  },
  {
   "cell_type": "code",
   "execution_count": 31,
   "outputs": [],
   "source": [],
   "metadata": {
    "collapsed": false,
    "ExecuteTime": {
     "end_time": "2023-10-14T12:30:22.211187Z",
     "start_time": "2023-10-14T12:30:22.199861Z"
    }
   },
   "id": "e953769371293fee"
  },
  {
   "cell_type": "code",
   "execution_count": 31,
   "outputs": [],
   "source": [],
   "metadata": {
    "collapsed": false,
    "ExecuteTime": {
     "end_time": "2023-10-14T12:30:22.433002Z",
     "start_time": "2023-10-14T12:30:22.419442Z"
    }
   },
   "id": "11258ff9223a8258"
  },
  {
   "cell_type": "code",
   "execution_count": 31,
   "outputs": [],
   "source": [],
   "metadata": {
    "collapsed": false,
    "ExecuteTime": {
     "end_time": "2023-10-14T12:30:22.716548Z",
     "start_time": "2023-10-14T12:30:22.697477Z"
    }
   },
   "id": "cbeb0a353cb6ce5b"
  },
  {
   "cell_type": "code",
   "execution_count": 31,
   "outputs": [],
   "source": [],
   "metadata": {
    "collapsed": false,
    "ExecuteTime": {
     "end_time": "2023-10-14T12:30:22.961553Z",
     "start_time": "2023-10-14T12:30:22.941947Z"
    }
   },
   "id": "e54920d367503c41"
  },
  {
   "cell_type": "code",
   "execution_count": 41,
   "outputs": [],
   "source": [
    "def parse_raw_questions_to_json(raw_questions: str) -> list[dict]:\n",
    "    \"\"\"\n",
    "    Parse ChatGPT generated string content, and convert each generated question --to--> json format\n",
    "    :param raw_questions: string of ChatGPT response\n",
    "    :return: list of question in json format\n",
    "    \"\"\"\n",
    "    processed_question = []\n",
    "    for raw_question in raw_questions.split('<DIVIDED>'):\n",
    "        raw_question = raw_question.split('\\n')\n",
    "        json_question = {}\n",
    "        for section in raw_question:\n",
    "            section = section.replace(\" \", \"\")\n",
    "            if section.startswith(\"question\"):\n",
    "                question_content = section.split(\"question:\")[1]\n",
    "                json_question[\"question\"] = question_content\n",
    "\n",
    "            elif section.startswith(\"options\"):\n",
    "                json_options = {}\n",
    "                for option in section.split(\"options:\")[1].split(\"|\"):\n",
    "                    option_tag = option.split(\":\")[0]\n",
    "                    option_content = option.split(\":\")[1]\n",
    "                    json_options[option_tag] = option_content\n",
    "                json_question[\"options\"] = json_options\n",
    "\n",
    "            elif section.startswith(\"answer\"):\n",
    "                answer_content = section.split(\"answer:\")[1]\n",
    "                json_question[\"answer\"] = answer_content\n",
    "        \n",
    "        if len(json_question) == 3:\n",
    "            processed_question.append(json_question)\n",
    "        \n",
    "    return processed_question"
   ],
   "metadata": {
    "collapsed": false,
    "ExecuteTime": {
     "end_time": "2023-10-14T12:35:02.955894Z",
     "start_time": "2023-10-14T12:35:02.948071Z"
    }
   },
   "id": "a6d81fd022648b2d"
  },
  {
   "cell_type": "code",
   "execution_count": 42,
   "outputs": [
    {
     "data": {
      "text/plain": "[{'question': 'RBA管理手册是为了哪些目的而建立的？',\n  'options': {'A': '保证质量管理体系',\n   'B': '保证环境管理体系',\n   'C': '保证安全卫生损失',\n   'D': '保证社会责任'},\n  'answer': 'D:保证社会责任'}]"
     },
     "execution_count": 42,
     "metadata": {},
     "output_type": "execute_result"
    }
   ],
   "source": [
    "knowledge_text = \"\"\"\n",
    "    question: RBA管理手册是为了哪些目的而建立的？\n",
    "    options: A: 保证质量管理体系 | B: 保证环境管理体系 | C: 保证安全卫生损失 | D:保证社会责任\n",
    "    answer: D: 保证社会责任\n",
    "    <DIVIDED>\n",
    "\"\"\"\n",
    "\n",
    "parse_raw_questions_to_json(knowledge_text)"
   ],
   "metadata": {
    "collapsed": false,
    "ExecuteTime": {
     "end_time": "2023-10-14T12:35:03.389276Z",
     "start_time": "2023-10-14T12:35:03.381718Z"
    }
   },
   "id": "5ebcb84932b02895"
  },
  {
   "cell_type": "code",
   "execution_count": null,
   "outputs": [],
   "source": [],
   "metadata": {
    "collapsed": false
   },
   "id": "cc79dde37d9c7d12"
  }
 ],
 "metadata": {
  "kernelspec": {
   "display_name": "Python 3",
   "language": "python",
   "name": "python3"
  },
  "language_info": {
   "codemirror_mode": {
    "name": "ipython",
    "version": 2
   },
   "file_extension": ".py",
   "mimetype": "text/x-python",
   "name": "python",
   "nbconvert_exporter": "python",
   "pygments_lexer": "ipython2",
   "version": "2.7.6"
  }
 },
 "nbformat": 4,
 "nbformat_minor": 5
}
